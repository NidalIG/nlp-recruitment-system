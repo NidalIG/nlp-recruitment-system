{
  "nbformat": 4,
  "nbformat_minor": 0,
  "metadata": {
    "colab": {
      "provenance": []
    },
    "kernelspec": {
      "name": "python3",
      "display_name": "Python 3"
    },
    "language_info": {
      "name": "python"
    }
  },
  "cells": [
    {
      "cell_type": "code",
      "metadata": {
        "colab": {
          "base_uri": "https://localhost:8080/"
        },
        "id": "2cb0a935",
        "outputId": "48288028-0e26-4c95-f9a7-2cd85b912b0c"
      },
      "source": [
        "!python -m spacy download en_core_web_md"
      ],
      "execution_count": 17,
      "outputs": [
        {
          "output_type": "stream",
          "name": "stdout",
          "text": [
            "Collecting en-core-web-md==3.8.0\n",
            "  Downloading https://github.com/explosion/spacy-models/releases/download/en_core_web_md-3.8.0/en_core_web_md-3.8.0-py3-none-any.whl (33.5 MB)\n",
            "\u001b[2K     \u001b[90m━━━━━━━━━━━━━━━━━━━━━━━━━━━━━━━━━━━━━━━━\u001b[0m \u001b[32m33.5/33.5 MB\u001b[0m \u001b[31m56.1 MB/s\u001b[0m eta \u001b[36m0:00:00\u001b[0m\n",
            "\u001b[?25h\u001b[38;5;2m✔ Download and installation successful\u001b[0m\n",
            "You can now load the package via spacy.load('en_core_web_md')\n",
            "\u001b[38;5;3m⚠ Restart to reload dependencies\u001b[0m\n",
            "If you are in a Jupyter or Colab notebook, you may need to restart Python in\n",
            "order to load all the package's dependencies. You can do this by selecting the\n",
            "'Restart kernel' or 'Restart runtime' option.\n"
          ]
        }
      ]
    },
    {
      "cell_type": "code",
      "execution_count": 19,
      "metadata": {
        "id": "5VwsVsKVY7hX"
      },
      "outputs": [],
      "source": [
        "# 1. Import des librairies\n",
        "import re\n",
        "import spacy\n",
        "import pandas as pd\n",
        "\n",
        "# Charger le modèle de langue français ou anglais selon ton corpus\n",
        "# (\"fr_core_news_md\" ou \"en_core_web_md\")\n",
        "nlp = spacy.load(\"en_core_web_md\")"
      ]
    },
    {
      "cell_type": "code",
      "source": [
        "# 2. Import de dataset\n",
        "\n",
        "from google.colab import drive\n",
        "drive.mount('/content/drive')\n",
        "job_description = pd.read_csv('/content/drive/MyDrive/Colab Notebooks/job_des/job_title_des.csv')"
      ],
      "metadata": {
        "colab": {
          "base_uri": "https://localhost:8080/"
        },
        "id": "G65paaNUeb3u",
        "outputId": "97e145b1-108a-40d3-965e-265185608640"
      },
      "execution_count": 25,
      "outputs": [
        {
          "output_type": "stream",
          "name": "stdout",
          "text": [
            "Drive already mounted at /content/drive; to attempt to forcibly remount, call drive.mount(\"/content/drive\", force_remount=True).\n"
          ]
        }
      ]
    },
    {
      "cell_type": "code",
      "source": [
        "# 3. Prétraitement du texte and 4. Fonctions d'extraction\n",
        "\n",
        "def extract_title(text):\n",
        "    match = re.search(r\"(?i)(Data Scientist|Engineer|Developer|Manager|Analyst)\", text)\n",
        "    return match.group(0) if match else None\n",
        "\n",
        "\n",
        "def extract_company(text):\n",
        "    match = re.search(r\"at ([A-Z][A-Za-z0-9& ]+)\", text)\n",
        "    return match.group(1).strip() if match else None\n",
        "\n",
        "\n",
        "def extract_location(text):\n",
        "    match = re.search(r\"in ([A-Z][a-zA-Z ]+)\", text)\n",
        "    return match.group(1).strip() if match else None\n",
        "\n",
        "\n",
        "def extract_contract(text):\n",
        "    match = re.search(r\"(CDI|CDD|Internship|Stage|Freelance)\", text, re.IGNORECASE)\n",
        "    return match.group(1).upper() if match else None\n",
        "\n",
        "\n",
        "def extract_skills(text):\n",
        "    skill_list = [\"Python\", \"SQL\", \"Machine Learning\", \"Deep Learning\", \"NLP\", \"Java\", \"C++\"]\n",
        "    found = [skill for skill in skill_list if re.search(skill, text, re.IGNORECASE)]\n",
        "    return found\n",
        "\n",
        "\n",
        "def extract_experience(text):\n",
        "    match = re.search(r\"(\\d+\\s+years?|\\d+ ans)\", text)\n",
        "    return match.group(1) if match else None\n",
        "\n",
        "\n",
        "def extract_education(text):\n",
        "    match = re.search(r\"(Bachelor|Master|PhD|Bac\\+\\d)\", text, re.IGNORECASE)\n",
        "    return match.group(1) if match else None\n",
        "\n",
        "\n",
        "def extract_responsibilities(text):\n",
        "    lines = text.split(\"\\n\")\n",
        "    responsibilities = []\n",
        "    capture = False\n",
        "    for line in lines:\n",
        "        if \"Responsibilities\" in line:\n",
        "            capture = True\n",
        "            continue\n",
        "        if capture:\n",
        "            if line.strip() == \"\" or re.search(r\"Requirements\", line):\n",
        "                break\n",
        "            responsibilities.append(line.strip(\"- \"))\n",
        "    return responsibilities\n"
      ],
      "metadata": {
        "id": "4LaNujPCZH7s"
      },
      "execution_count": 21,
      "outputs": []
    },
    {
      "cell_type": "code",
      "source": [
        "# Traitement de chaque job description\n",
        "parsed_jobs_list = []\n",
        "for _, row in job_description.iterrows():\n",
        "    description = str(row['Job Description'])\n",
        "    parsed_job = {\n",
        "        \"Titre\": extract_title(description),\n",
        "        \"Entreprise\": extract_company(description),\n",
        "        \"Lieu\": extract_location(description),\n",
        "        \"Contrat\": extract_contract(description),\n",
        "        \"Compétences\": extract_skills(description),\n",
        "        \"Expérience\": extract_experience(description),\n",
        "        \"Niveau\": extract_education(description),\n",
        "        \"Missions\": extract_responsibilities(description)\n",
        "    }\n",
        "    parsed_jobs_list.append(parsed_job)\n",
        "\n",
        "# Conversion en DataFrame final\n",
        "parsed_jobs_df = pd.DataFrame(parsed_jobs_list)\n",
        "\n",
        "# Affichage des 5 premières lignes\n",
        "print(parsed_jobs_df.head())\n",
        "\n",
        "# Optionnel : sauvegarde\n",
        "parsed_jobs_df.to_csv(\"job_descriptions_parsed.csv\", index=False)\n",
        "print(\"✅ Extraction terminée et sauvegardée dans job_descriptions_parsed.csv\")"
      ],
      "metadata": {
        "colab": {
          "base_uri": "https://localhost:8080/"
        },
        "id": "fMYl4nFpZqN4",
        "outputId": "5a1e062d-9af8-4fd3-c63a-9a7a6bdb2d63"
      },
      "execution_count": 22,
      "outputs": [
        {
          "output_type": "stream",
          "name": "stdout",
          "text": [
            "            Titre Entreprise             Lieu Contrat  \\\n",
            "0       developer       None             None    None   \n",
            "1       Developer       None  API development    None   \n",
            "2  Data Scientist       None  India Bangalore    None   \n",
            "3        engineer       None             None    None   \n",
            "4        engineer       None             None    None   \n",
            "\n",
            "                                         Compétences Expérience Niveau  \\\n",
            "0                                              [C++]     1 year   None   \n",
            "1                                 [Python, SQL, C++]       None   None   \n",
            "2  [Python, Machine Learning, Deep Learning, Java...    3 years   None   \n",
            "3                                              [C++]       None   None   \n",
            "4                                        [Java, C++]       None   None   \n",
            "\n",
            "  Missions  \n",
            "0       []  \n",
            "1       []  \n",
            "2       []  \n",
            "3       []  \n",
            "4       []  \n",
            "✅ Extraction terminée et sauvegardée dans job_descriptions_parsed.csv\n"
          ]
        }
      ]
    },
    {
      "cell_type": "code",
      "source": [
        "# 7. Sauvegarde en fichier JSON\n",
        "import json\n",
        "with open(\"parsed_job.json\", \"w\", encoding=\"utf-8\") as f:\n",
        "    json.dump(parsed_job, f, ensure_ascii=False, indent=4)\n",
        "\n",
        "\n",
        "print(\"✅ Résultats enregistrés dans parsed_job.json\")"
      ],
      "metadata": {
        "colab": {
          "base_uri": "https://localhost:8080/"
        },
        "id": "1IV_pjgsa4Ha",
        "outputId": "9d693e2a-3d64-4dde-91c9-32515e73b6e4"
      },
      "execution_count": 23,
      "outputs": [
        {
          "output_type": "stream",
          "name": "stdout",
          "text": [
            "✅ Résultats enregistrés dans parsed_job.json\n"
          ]
        }
      ]
    },
    {
      "cell_type": "code",
      "source": [
        "# 8. Télécharger le fichier JSON\n",
        "from google.colab import files\n",
        "files.download(\"parsed_job.json\")"
      ],
      "metadata": {
        "colab": {
          "base_uri": "https://localhost:8080/",
          "height": 17
        },
        "id": "dAgpQqaVbSIN",
        "outputId": "5fe03d95-385a-43c0-a9fb-8e83c96a7261"
      },
      "execution_count": 24,
      "outputs": [
        {
          "output_type": "display_data",
          "data": {
            "text/plain": [
              "<IPython.core.display.Javascript object>"
            ],
            "application/javascript": [
              "\n",
              "    async function download(id, filename, size) {\n",
              "      if (!google.colab.kernel.accessAllowed) {\n",
              "        return;\n",
              "      }\n",
              "      const div = document.createElement('div');\n",
              "      const label = document.createElement('label');\n",
              "      label.textContent = `Downloading \"${filename}\": `;\n",
              "      div.appendChild(label);\n",
              "      const progress = document.createElement('progress');\n",
              "      progress.max = size;\n",
              "      div.appendChild(progress);\n",
              "      document.body.appendChild(div);\n",
              "\n",
              "      const buffers = [];\n",
              "      let downloaded = 0;\n",
              "\n",
              "      const channel = await google.colab.kernel.comms.open(id);\n",
              "      // Send a message to notify the kernel that we're ready.\n",
              "      channel.send({})\n",
              "\n",
              "      for await (const message of channel.messages) {\n",
              "        // Send a message to notify the kernel that we're ready.\n",
              "        channel.send({})\n",
              "        if (message.buffers) {\n",
              "          for (const buffer of message.buffers) {\n",
              "            buffers.push(buffer);\n",
              "            downloaded += buffer.byteLength;\n",
              "            progress.value = downloaded;\n",
              "          }\n",
              "        }\n",
              "      }\n",
              "      const blob = new Blob(buffers, {type: 'application/binary'});\n",
              "      const a = document.createElement('a');\n",
              "      a.href = window.URL.createObjectURL(blob);\n",
              "      a.download = filename;\n",
              "      div.appendChild(a);\n",
              "      a.click();\n",
              "      div.remove();\n",
              "    }\n",
              "  "
            ]
          },
          "metadata": {}
        },
        {
          "output_type": "display_data",
          "data": {
            "text/plain": [
              "<IPython.core.display.Javascript object>"
            ],
            "application/javascript": [
              "download(\"download_fd5334db-1641-4e18-a48c-ed4068d5abce\", \"parsed_job.json\", 220)"
            ]
          },
          "metadata": {}
        }
      ]
    }
  ]
}